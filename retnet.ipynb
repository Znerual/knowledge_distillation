{
 "cells": [
  {
   "cell_type": "code",
   "execution_count": 3,
   "metadata": {},
   "outputs": [],
   "source": [
    "import torch\n",
    "from torchscale.architecture.config import RetNetConfig\n",
    "from torchscale.architecture.retnet import RetNetDecoder\n"
   ]
  },
  {
   "cell_type": "code",
   "execution_count": 4,
   "metadata": {},
   "outputs": [],
   "source": [
    "config = RetNetConfig(vocab_size=64000)\n",
    "\n",
    "embed_tokens = torch.nn.Embedding(num_embeddings, config.decoder_embed_dim, padding_idx=padding_idx) # num_embeddings = num words, embedding_dim = embedding size\n",
    "torch.nn.init.normal_(embed_tokens.weight, mean=0, std=config.decoder_embed_dim**-0.5) \n",
    "torch.nn.init.constant_(embed_tokens.weight[padding_idx], 0)\n",
    "\n",
    "\n",
    "output_projection = torch.nn.Linear(config.decoder_embed_dim, num_embeddings, bias=False)\n",
    "torch.nn.init.normal_(\n",
    "    output_projection.weight, mean=0, std=config.decoder_embed_dim**-0.5\n",
    ")\n",
    "\n",
    "\n",
    "retnet = RetNetDecoder(config, embed_tokens, output_projection)"
   ]
  },
  {
   "cell_type": "code",
   "execution_count": 5,
   "metadata": {},
   "outputs": [
    {
     "data": {
      "text/plain": [
       "<torchscale.architecture.config.RetNetConfig at 0x7fe60bf8b3a0>"
      ]
     },
     "execution_count": 5,
     "metadata": {},
     "output_type": "execute_result"
    }
   ],
   "source": [
    "config"
   ]
  },
  {
   "cell_type": "code",
   "execution_count": 6,
   "metadata": {},
   "outputs": [
    {
     "name": "stdout",
     "output_type": "stream",
     "text": [
      "RetNetDecoder(\n",
      "  (dropout_module): Dropout(p=0.0, inplace=False)\n",
      "  (output_projection): Linear(in_features=768, out_features=64000, bias=False)\n",
      "  (layers): ModuleList(\n",
      "    (0-11): 12 x DecoderLayer(\n",
      "      (dropout_module): Dropout(p=0.0, inplace=False)\n",
      "      (retention): MultiScaleRetention(\n",
      "        (q_proj): Linear(in_features=768, out_features=768, bias=False)\n",
      "        (k_proj): Linear(in_features=768, out_features=768, bias=False)\n",
      "        (v_proj): Linear(in_features=768, out_features=1280, bias=False)\n",
      "        (g_proj): Linear(in_features=768, out_features=1280, bias=False)\n",
      "        (out_proj): Linear(in_features=1280, out_features=768, bias=False)\n",
      "        (group_norm): RMSNorm()\n",
      "      )\n",
      "      (retention_layer_norm): RMSNorm()\n",
      "      (ffn): GLU(\n",
      "        (activation_dropout_module): Dropout(p=0.0, inplace=False)\n",
      "        (dropout_module): Dropout(p=0.0, inplace=False)\n",
      "        (fc1): Linear(in_features=768, out_features=1280, bias=False)\n",
      "        (fc2): Linear(in_features=1280, out_features=768, bias=False)\n",
      "        (gate): Linear(in_features=768, out_features=1280, bias=False)\n",
      "      )\n",
      "      (final_layer_norm): RMSNorm()\n",
      "    )\n",
      "  )\n",
      "  (layer_norm): RMSNorm()\n",
      "  (retnet_rel_pos): RetNetRelPos()\n",
      ")\n"
     ]
    }
   ],
   "source": [
    "print(retnet)"
   ]
  },
  {
   "cell_type": "code",
   "execution_count": 11,
   "metadata": {},
   "outputs": [
    {
     "ename": "TypeError",
     "evalue": "'NoneType' object is not callable",
     "output_type": "error",
     "traceback": [
      "\u001b[0;31m---------------------------------------------------------------------------\u001b[0m",
      "\u001b[0;31mTypeError\u001b[0m                                 Traceback (most recent call last)",
      "Cell \u001b[0;32mIn[11], line 1\u001b[0m\n\u001b[0;32m----> 1\u001b[0m \u001b[43mretnet\u001b[49m\u001b[43m(\u001b[49m\u001b[43m[\u001b[49m\u001b[38;5;241;43m1\u001b[39;49m\u001b[43m,\u001b[49m\u001b[38;5;241;43m52\u001b[39;49m\u001b[43m]\u001b[49m\u001b[43m)\u001b[49m\n",
      "File \u001b[0;32m~/Code/LLM/venv/lib/python3.10/site-packages/torch/nn/modules/module.py:1501\u001b[0m, in \u001b[0;36mModule._call_impl\u001b[0;34m(self, *args, **kwargs)\u001b[0m\n\u001b[1;32m   1496\u001b[0m \u001b[38;5;66;03m# If we don't have any hooks, we want to skip the rest of the logic in\u001b[39;00m\n\u001b[1;32m   1497\u001b[0m \u001b[38;5;66;03m# this function, and just call forward.\u001b[39;00m\n\u001b[1;32m   1498\u001b[0m \u001b[38;5;28;01mif\u001b[39;00m \u001b[38;5;129;01mnot\u001b[39;00m (\u001b[38;5;28mself\u001b[39m\u001b[38;5;241m.\u001b[39m_backward_hooks \u001b[38;5;129;01mor\u001b[39;00m \u001b[38;5;28mself\u001b[39m\u001b[38;5;241m.\u001b[39m_backward_pre_hooks \u001b[38;5;129;01mor\u001b[39;00m \u001b[38;5;28mself\u001b[39m\u001b[38;5;241m.\u001b[39m_forward_hooks \u001b[38;5;129;01mor\u001b[39;00m \u001b[38;5;28mself\u001b[39m\u001b[38;5;241m.\u001b[39m_forward_pre_hooks\n\u001b[1;32m   1499\u001b[0m         \u001b[38;5;129;01mor\u001b[39;00m _global_backward_pre_hooks \u001b[38;5;129;01mor\u001b[39;00m _global_backward_hooks\n\u001b[1;32m   1500\u001b[0m         \u001b[38;5;129;01mor\u001b[39;00m _global_forward_hooks \u001b[38;5;129;01mor\u001b[39;00m _global_forward_pre_hooks):\n\u001b[0;32m-> 1501\u001b[0m     \u001b[38;5;28;01mreturn\u001b[39;00m \u001b[43mforward_call\u001b[49m\u001b[43m(\u001b[49m\u001b[38;5;241;43m*\u001b[39;49m\u001b[43margs\u001b[49m\u001b[43m,\u001b[49m\u001b[43m \u001b[49m\u001b[38;5;241;43m*\u001b[39;49m\u001b[38;5;241;43m*\u001b[39;49m\u001b[43mkwargs\u001b[49m\u001b[43m)\u001b[49m\n\u001b[1;32m   1502\u001b[0m \u001b[38;5;66;03m# Do not call functions when jit is used\u001b[39;00m\n\u001b[1;32m   1503\u001b[0m full_backward_hooks, non_full_backward_hooks \u001b[38;5;241m=\u001b[39m [], []\n",
      "File \u001b[0;32m~/Code/LLM/torchscale/torchscale/architecture/retnet.py:338\u001b[0m, in \u001b[0;36mRetNetDecoder.forward\u001b[0;34m(self, prev_output_tokens, incremental_state, features_only, return_all_hiddens, token_embeddings, **kwargs)\u001b[0m\n\u001b[1;32m    328\u001b[0m \u001b[38;5;28;01mdef\u001b[39;00m \u001b[38;5;21mforward\u001b[39m(\n\u001b[1;32m    329\u001b[0m     \u001b[38;5;28mself\u001b[39m,\n\u001b[1;32m    330\u001b[0m     prev_output_tokens,\n\u001b[0;32m   (...)\u001b[0m\n\u001b[1;32m    336\u001b[0m ):\n\u001b[1;32m    337\u001b[0m     \u001b[38;5;66;03m# embed tokens\u001b[39;00m\n\u001b[0;32m--> 338\u001b[0m     x, _ \u001b[38;5;241m=\u001b[39m \u001b[38;5;28;43mself\u001b[39;49m\u001b[38;5;241;43m.\u001b[39;49m\u001b[43mforward_embedding\u001b[49m\u001b[43m(\u001b[49m\n\u001b[1;32m    339\u001b[0m \u001b[43m        \u001b[49m\u001b[43mprev_output_tokens\u001b[49m\u001b[43m,\u001b[49m\u001b[43m \u001b[49m\u001b[43mtoken_embeddings\u001b[49m\u001b[43m,\u001b[49m\u001b[43m \u001b[49m\u001b[43mincremental_state\u001b[49m\n\u001b[1;32m    340\u001b[0m \u001b[43m    \u001b[49m\u001b[43m)\u001b[49m\n\u001b[1;32m    341\u001b[0m     is_first_step \u001b[38;5;241m=\u001b[39m \u001b[38;5;28mself\u001b[39m\u001b[38;5;241m.\u001b[39mis_first_step(incremental_state)\n\u001b[1;32m    344\u001b[0m     \u001b[38;5;28;01mif\u001b[39;00m \u001b[38;5;28mself\u001b[39m\u001b[38;5;241m.\u001b[39mchunkwise_recurrent \u001b[38;5;129;01mand\u001b[39;00m prev_output_tokens\u001b[38;5;241m.\u001b[39msize(\u001b[38;5;241m1\u001b[39m) \u001b[38;5;241m%\u001b[39m \u001b[38;5;28mself\u001b[39m\u001b[38;5;241m.\u001b[39mrecurrent_chunk_size \u001b[38;5;241m!=\u001b[39m \u001b[38;5;241m0\u001b[39m:\n",
      "File \u001b[0;32m~/Code/LLM/torchscale/torchscale/architecture/retnet.py:312\u001b[0m, in \u001b[0;36mRetNetDecoder.forward_embedding\u001b[0;34m(self, tokens, token_embedding, incremental_state)\u001b[0m\n\u001b[1;32m    309\u001b[0m     tokens \u001b[38;5;241m=\u001b[39m tokens[:, \u001b[38;5;241m-\u001b[39m\u001b[38;5;241m1\u001b[39m:]\n\u001b[1;32m    311\u001b[0m \u001b[38;5;28;01mif\u001b[39;00m token_embedding \u001b[38;5;129;01mis\u001b[39;00m \u001b[38;5;28;01mNone\u001b[39;00m:\n\u001b[0;32m--> 312\u001b[0m     token_embedding \u001b[38;5;241m=\u001b[39m \u001b[38;5;28;43mself\u001b[39;49m\u001b[38;5;241;43m.\u001b[39;49m\u001b[43membed_tokens\u001b[49m\u001b[43m(\u001b[49m\u001b[43mtokens\u001b[49m\u001b[43m)\u001b[49m\n\u001b[1;32m    314\u001b[0m x \u001b[38;5;241m=\u001b[39m embed \u001b[38;5;241m=\u001b[39m \u001b[38;5;28mself\u001b[39m\u001b[38;5;241m.\u001b[39membed_scale \u001b[38;5;241m*\u001b[39m token_embedding\n\u001b[1;32m    316\u001b[0m \u001b[38;5;28;01mif\u001b[39;00m \u001b[38;5;28mself\u001b[39m\u001b[38;5;241m.\u001b[39mlayernorm_embedding \u001b[38;5;129;01mis\u001b[39;00m \u001b[38;5;129;01mnot\u001b[39;00m \u001b[38;5;28;01mNone\u001b[39;00m:\n",
      "\u001b[0;31mTypeError\u001b[0m: 'NoneType' object is not callable"
     ]
    }
   ],
   "source": [
    "retnet([1,52])"
   ]
  },
  {
   "cell_type": "code",
   "execution_count": 9,
   "metadata": {},
   "outputs": [
    {
     "data": {
      "text/plain": [
       "134105856"
      ]
     },
     "execution_count": 9,
     "metadata": {},
     "output_type": "execute_result"
    }
   ],
   "source": [
    "def get_n_params(model):\n",
    "    pp=0\n",
    "    for p in list(model.parameters()):\n",
    "        nn=1\n",
    "        for s in list(p.size()):\n",
    "            nn = nn*s\n",
    "        pp += nn\n",
    "    return pp\n",
    "\n",
    "get_n_params(retnet)"
   ]
  },
  {
   "cell_type": "code",
   "execution_count": null,
   "metadata": {},
   "outputs": [],
   "source": []
  }
 ],
 "metadata": {
  "kernelspec": {
   "display_name": "venv",
   "language": "python",
   "name": "python3"
  },
  "language_info": {
   "codemirror_mode": {
    "name": "ipython",
    "version": 3
   },
   "file_extension": ".py",
   "mimetype": "text/x-python",
   "name": "python",
   "nbconvert_exporter": "python",
   "pygments_lexer": "ipython3",
   "version": "3.10.13"
  }
 },
 "nbformat": 4,
 "nbformat_minor": 2
}
