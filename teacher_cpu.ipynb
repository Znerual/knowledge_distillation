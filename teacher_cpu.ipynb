{
 "cells": [
  {
   "cell_type": "code",
   "execution_count": null,
   "metadata": {},
   "outputs": [],
   "source": []
  },
  {
   "cell_type": "markdown",
   "metadata": {},
   "source": [
    "# CPU + GPU Offloading\n",
    "Install lama.cpp-python with cuBLAS:\n",
    "```bash\n",
    "CMAKE_ARGS=\"-DLLAMA_CUBLAS=on\" pip install llama-cpp-python\n",
    "```\n",
    "or better, use ctransformers:\n",
    "```\n",
    "pip install ctransformers[cuda]\n",
    "pip install ctransformers[gptq]\n",
    "```\n"
   ]
  },
  {
   "cell_type": "code",
   "execution_count": 16,
   "metadata": {},
   "outputs": [
    {
     "name": "stderr",
     "output_type": "stream",
     "text": [
      "config.json: 100%|██████████| 31.0/31.0 [00:00<00:00, 179kB/s]\n",
      "Fetching 1 files: 100%|██████████| 1/1 [00:00<00:00,  2.62it/s]\n",
      "mistral-7b-instruct-v0.1.Q5_K_M.gguf: 100%|██████████| 5.13G/5.13G [06:53<00:00, 12.4MB/s]\n",
      "Fetching 1 files: 100%|██████████| 1/1 [06:54<00:00, 414.21s/it]\n"
     ]
    },
    {
     "name": "stdout",
     "output_type": "stream",
     "text": [
      " revolutionize the way we live, work and play. There are already numerous examples of how it is being used in various industries such as healthcare, finance, transportation, manufacturing, and more.\n",
      "\n",
      "One of the most exciting areas where AI is being developed is in gaming. With the help of machine learning algorithms, games are becoming smarter, more immersive, and more interactive. In this article, we will explore some of the ways that AI is being used in gaming and how it is changing the landscape of the industry.\n",
      "\n",
      "1. Intelligent NPCs\n",
      "Non-player characters (NPCs) are an essential part of any game, and they are becoming smarter thanks to AI. With machine learning algorithms, NPCs can now have unique personalities, behaviors, and conversations, making them feel more real and immersive. For example, in the game \"The Witcher 3: Wild Hunt,\" NPCs use a behavior tree system that allows them to make decisions based on their surroundings and previous interactions with the player.\n",
      "\n",
      "2. Procedural Generation\n",
      "Procedural generation is a technique used to create content such as levels, enemies, and items in games. With AI, procedural generation has become\n"
     ]
    }
   ],
   "source": [
    "from ctransformers import AutoModelForCausalLM, AutoTokenizer\n",
    "import numpy as np\n",
    "#llm = AutoModelForCausalLM.from_pretrained(\"TheBloke/Yi-6B-200K-GGUF\", model_file=\"yi-6b-200k.Q5_K_M.gguf\", model_type=\"yi\", gpu_layers=12) # hf=True\n",
    "llm = AutoModelForCausalLM.from_pretrained(\"TheBloke/Mistral-7B-Instruct-v0.1-GGUF\", model_file=\"mistral-7b-instruct-v0.1.Q5_K_M.gguf\", model_type=\"mistral\", gpu_layers=12) \n",
    "\n",
    "#tokenizer = AutoTokenizer.from_pretrained(model)\n",
    "print(llm(\"AI is going to \"))"
   ]
  },
  {
   "cell_type": "code",
   "execution_count": 15,
   "metadata": {},
   "outputs": [
    {
     "data": {
      "text/plain": [
       "' be'"
      ]
     },
     "execution_count": 15,
     "metadata": {},
     "output_type": "execute_result"
    }
   ],
   "source": [
    "tokens = llm.tokenize(\"AI is going to \")\n",
    "tokens = llm.prepare_inputs_for_generation(tokens)\n",
    "llm.eval(tokens)\n",
    "logits = np.array(llm.logits)\n",
    "selection = np.argmax(logits, axis=-1)\n",
    "llm.detokenize([selection])"
   ]
  },
  {
   "cell_type": "code",
   "execution_count": 9,
   "metadata": {},
   "outputs": [
    {
     "data": {
      "text/plain": [
       "(64000,)"
      ]
     },
     "execution_count": 9,
     "metadata": {},
     "output_type": "execute_result"
    }
   ],
   "source": [
    "np.array(llm.logits).shape"
   ]
  },
  {
   "cell_type": "code",
   "execution_count": 11,
   "metadata": {},
   "outputs": [
    {
     "data": {
      "text/plain": [
       "Config(top_k=40, top_p=0.95, temperature=0.8, repetition_penalty=1.1, last_n_tokens=64, seed=-1, batch_size=8, threads=-1, max_new_tokens=256, stop=None, stream=False, reset=True, context_length=-1, gpu_layers=12, mmap=True, mlock=False)"
      ]
     },
     "execution_count": 11,
     "metadata": {},
     "output_type": "execute_result"
    }
   ],
   "source": [
    "llm.config"
   ]
  },
  {
   "cell_type": "code",
   "execution_count": null,
   "metadata": {},
   "outputs": [],
   "source": [
    "files"
   ]
  }
 ],
 "metadata": {
  "kernelspec": {
   "display_name": "venv",
   "language": "python",
   "name": "python3"
  },
  "language_info": {
   "codemirror_mode": {
    "name": "ipython",
    "version": 3
   },
   "file_extension": ".py",
   "mimetype": "text/x-python",
   "name": "python",
   "nbconvert_exporter": "python",
   "pygments_lexer": "ipython3",
   "version": "3.10.13"
  }
 },
 "nbformat": 4,
 "nbformat_minor": 2
}
